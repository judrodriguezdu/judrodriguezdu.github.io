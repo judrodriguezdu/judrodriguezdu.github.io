{
  "nbformat": 4,
  "nbformat_minor": 0,
  "metadata": {
    "colab": {
      "name": "CIFAR-10 CNN.ipynb",
      "provenance": [],
      "authorship_tag": "ABX9TyPCtQeknm1efwxCPyZsUVCC",
      "include_colab_link": true
    },
    "kernelspec": {
      "name": "python3",
      "display_name": "Python 3"
    }
  },
  "cells": [
    {
      "cell_type": "markdown",
      "metadata": {
        "id": "view-in-github",
        "colab_type": "text"
      },
      "source": [
        "<a href=\"https://colab.research.google.com/github/judrodriguezdu/judrodriguezdu.github.io/blob/main/CIFAR_10_CNN.ipynb\" target=\"_parent\"><img src=\"https://colab.research.google.com/assets/colab-badge.svg\" alt=\"Open In Colab\"/></a>"
      ]
    },
    {
      "cell_type": "code",
      "metadata": {
        "id": "l-bcMTrFx1xs"
      },
      "source": [
        "#Se importan las liberias necesarias\r\n",
        "\r\n",
        "import tensorflow as tf\r\n",
        "from tensorflow.keras import datasets, layers, models\r\n",
        "import matplotlib.pyplot as plt\r\n",
        "import numpy as np\r\n",
        "from sklearn.metrics import confusion_matrix\r\n",
        "from sklearn.metrics import accuracy_score\r\n",
        "from sklearn.metrics import classification_report\r\n",
        "from sklearn.model_selection import train_test_split"
      ],
      "execution_count": 1,
      "outputs": []
    },
    {
      "cell_type": "markdown",
      "metadata": {
        "id": "imBOJe9C_iM_"
      },
      "source": [
        "# Se cargan los datos"
      ]
    },
    {
      "cell_type": "code",
      "metadata": {
        "colab": {
          "base_uri": "https://localhost:8080/"
        },
        "id": "2V1-mIPS0inW",
        "outputId": "8f0eb916-4ffa-46dc-80ff-b0d80827f815"
      },
      "source": [
        "#Se descarga el dataset y se valida la cantidad de imagenes en el conjunto de entrenamiento y prueba\r\n",
        "# Se tienen 50,000 imágenes en el conjunto de entrenamiento y las imágenes son RGB de 32x32\r\n",
        "\r\n",
        "(train_X, train_Y), (test_X, test_Y) = datasets.cifar10.load_data()  \r\n",
        "train_X.shape"
      ],
      "execution_count": 2,
      "outputs": [
        {
          "output_type": "stream",
          "text": [
            "Downloading data from https://www.cs.toronto.edu/~kriz/cifar-10-python.tar.gz\n",
            "170500096/170498071 [==============================] - 4s 0us/step\n"
          ],
          "name": "stdout"
        },
        {
          "output_type": "execute_result",
          "data": {
            "text/plain": [
              "(50000, 32, 32, 3)"
            ]
          },
          "metadata": {
            "tags": []
          },
          "execution_count": 2
        }
      ]
    },
    {
      "cell_type": "code",
      "metadata": {
        "id": "1INq4dDtvVah"
      },
      "source": [
        "# split training set into train and validation sets\r\n",
        "train_X, val_X, train_Y, val_Y = train_test_split(train_X, train_Y, test_size=0.2, random_state=42)"
      ],
      "execution_count": 3,
      "outputs": []
    },
    {
      "cell_type": "code",
      "metadata": {
        "colab": {
          "base_uri": "https://localhost:8080/"
        },
        "id": "KQaYIXtpxGW1",
        "outputId": "f8b52110-82a0-4967-cda9-5e16fedbf3a9"
      },
      "source": [
        "train_X.shape"
      ],
      "execution_count": 4,
      "outputs": [
        {
          "output_type": "execute_result",
          "data": {
            "text/plain": [
              "(40000, 32, 32, 3)"
            ]
          },
          "metadata": {
            "tags": []
          },
          "execution_count": 4
        }
      ]
    },
    {
      "cell_type": "code",
      "metadata": {
        "colab": {
          "base_uri": "https://localhost:8080/"
        },
        "id": "jdGgS-Q15j3t",
        "outputId": "9fc0d984-2176-42a8-94bd-f66e8994b16a"
      },
      "source": [
        "# Se tienen 10,000 imágenes en el conjunto de validación\r\n",
        "\r\n",
        "val_X.shape"
      ],
      "execution_count": 6,
      "outputs": [
        {
          "output_type": "execute_result",
          "data": {
            "text/plain": [
              "(10000, 32, 32, 3)"
            ]
          },
          "metadata": {
            "tags": []
          },
          "execution_count": 6
        }
      ]
    },
    {
      "cell_type": "code",
      "metadata": {
        "colab": {
          "base_uri": "https://localhost:8080/"
        },
        "id": "SR2ipXLJ06RF",
        "outputId": "ff945a4e-1dac-4a77-cff3-c81865451137"
      },
      "source": [
        "# Se tienen 10,000 imágenes en el conjunto de prueba\r\n",
        "\r\n",
        "test_X.shape"
      ],
      "execution_count": 7,
      "outputs": [
        {
          "output_type": "execute_result",
          "data": {
            "text/plain": [
              "(10000, 32, 32, 3)"
            ]
          },
          "metadata": {
            "tags": []
          },
          "execution_count": 7
        }
      ]
    },
    {
      "cell_type": "markdown",
      "metadata": {
        "id": "QyoqILPo6ZM_"
      },
      "source": [
        "# Exploramos el conjunto de imágenes de prueba"
      ]
    },
    {
      "cell_type": "code",
      "metadata": {
        "colab": {
          "base_uri": "https://localhost:8080/",
          "height": 283
        },
        "id": "hE7ljA098H9U",
        "outputId": "77806f63-8c0d-4def-c03c-b0eb76e2f7c8"
      },
      "source": [
        "# Visualizamos las imágenes para familiarizarnos con el dataset\r\n",
        "\r\n",
        "plt.imshow(train_X[0])"
      ],
      "execution_count": 8,
      "outputs": [
        {
          "output_type": "execute_result",
          "data": {
            "text/plain": [
              "<matplotlib.image.AxesImage at 0x7fb9d72125c0>"
            ]
          },
          "metadata": {
            "tags": []
          },
          "execution_count": 8
        },
        {
          "output_type": "display_data",
          "data": {
            "image/png": "[encoded data removed]",
            "text/plain": [
              "<Figure size 432x288 with 1 Axes>"
            ]
          },
          "metadata": {
            "tags": [],
            "needs_background": "light"
          }
        }
      ]
    },
    {
      "cell_type": "code",
      "metadata": {
        "colab": {
          "base_uri": "https://localhost:8080/"
        },
        "id": "hvu5EO0C2pvV",
        "outputId": "37e49457-bb49-48b8-d595-d816e3f706ea"
      },
      "source": [
        "# Se utiliza reshape para convertir las etiquetas de un array de dos dimensiones a solo una.\r\n",
        "\r\n",
        "train_Y = train_Y.reshape(-1,)\r\n",
        "train_Y[:5]"
      ],
      "execution_count": 9,
      "outputs": [
        {
          "output_type": "execute_result",
          "data": {
            "text/plain": [
              "array([6, 2, 5, 6, 3], dtype=uint8)"
            ]
          },
          "metadata": {
            "tags": []
          },
          "execution_count": 9
        }
      ]
    },
    {
      "cell_type": "code",
      "metadata": {
        "id": "f-KfLmrE1y8x"
      },
      "source": [
        "#Se definen las etiquetas de las imágenes originalmente etiquetas del 0 al 9\r\n",
        "\r\n",
        "label_names = ['airplane', 'automobile', 'bird', 'cat', 'deer', 'dog', 'frog', 'horse', 'ship', 'truck']"
      ],
      "execution_count": 10,
      "outputs": []
    },
    {
      "cell_type": "code",
      "metadata": {
        "id": "6LKVRYyt0_Vl"
      },
      "source": [
        "# Se define una función para visualizar la imagen del conjunto de entrenamiento deseada de acuerdo al index con su respectiva etiqueta\r\n",
        "\r\n",
        "def plot_ejemplo(X, y, index):\r\n",
        "  plt.figure(figsize=(10,2))  # Se configura el tamaño deseado de las imágenes para su visualización\r\n",
        "  plt.imshow(X[index])\r\n",
        "  plt.xlabel(label_names[y[index]]) "
      ],
      "execution_count": 11,
      "outputs": []
    },
    {
      "cell_type": "code",
      "metadata": {
        "colab": {
          "base_uri": "https://localhost:8080/",
          "height": 173
        },
        "id": "sYfC1oUq1GQE",
        "outputId": "99fd5d8d-9fd3-4cc8-9fb5-000423a69cee"
      },
      "source": [
        "# Es posible visualizar ahora ejemplos de imágenes del conjunto de entrenamiento con su respectiva etiqueta\r\n",
        "\r\n",
        "plot_ejemplo(train_X, train_Y, 30000)"
      ],
      "execution_count": 12,
      "outputs": [
        {
          "output_type": "display_data",
          "data": {
            "image/png": "[encoded data removed]",
            "text/plain": [
              "<Figure size 720x144 with 1 Axes>"
            ]
          },
          "metadata": {
            "tags": [],
            "needs_background": "light"
          }
        }
      ]
    },
    {
      "cell_type": "code",
      "metadata": {
        "colab": {
          "base_uri": "https://localhost:8080/",
          "height": 173
        },
        "id": "-7C2XdGh3KaR",
        "outputId": "86950bad-4418-480f-ea24-ce2a7024dde1"
      },
      "source": [
        "plot_ejemplo(train_X, train_Y, 1000)"
      ],
      "execution_count": 13,
      "outputs": [
        {
          "output_type": "display_data",
          "data": {
            "image/png": "[encoded data removed]",
            "text/plain": [
              "<Figure size 720x144 with 1 Axes>"
            ]
          },
          "metadata": {
            "tags": [],
            "needs_background": "light"
          }
        }
      ]
    },
    {
      "cell_type": "markdown",
      "metadata": {
        "id": "P7HghGZPAD-Q"
      },
      "source": [
        "# Normalización de las imágenes"
      ]
    },
    {
      "cell_type": "code",
      "metadata": {
        "id": "Di0SqOyD3wGh"
      },
      "source": [
        "# Se normalizan las imágenes\r\n",
        "\r\n",
        "train_X = train_X / 255\r\n",
        "val_X = val_X / 255\r\n",
        "test_X = test_X / 255"
      ],
      "execution_count": 14,
      "outputs": []
    },
    {
      "cell_type": "markdown",
      "metadata": {
        "id": "yH7Zx2TOATtP"
      },
      "source": [
        "# Un modelo simple de redes neuronales artificiales"
      ]
    },
    {
      "cell_type": "code",
      "metadata": {
        "colab": {
          "base_uri": "https://localhost:8080/"
        },
        "id": "a3vM0A3W4zIu",
        "outputId": "f0f9a871-8fd9-41ef-c393-71761fc3619e"
      },
      "source": [
        "# se crea el modelo simple de redes neuronales artificiales con 3 capas y 10 Epochs\r\n",
        "\r\n",
        "modelo = models.Sequential([\r\n",
        "         layers.Flatten(input_shape=(32,32,3)), \r\n",
        "         layers.Dense(3000, activation=\"relu\"),\r\n",
        "         layers.Dense(1000, activation=\"relu\"),\r\n",
        "         layers.Dense(10, activation=\"sigmoid\")                  \r\n",
        "      ])\r\n",
        "\r\n",
        "modelo.compile(optimizer=\"SGD\", \r\n",
        "               loss=\"sparse_categorical_crossentropy\", \r\n",
        "               metrics=[\"accuracy\"])\r\n",
        "\r\n",
        "modelo.fit(train_X, train_Y, epochs=10, validation_data=(val_X, val_Y))"
      ],
      "execution_count": 15,
      "outputs": [
        {
          "output_type": "stream",
          "text": [
            "Epoch 1/10\n",
            "1250/1250 [==============================] - 91s 72ms/step - loss: 1.9615 - accuracy: 0.2929 - val_loss: 1.7133 - val_accuracy: 0.3942\n",
            "Epoch 2/10\n",
            "1250/1250 [==============================] - 87s 70ms/step - loss: 1.6709 - accuracy: 0.4114 - val_loss: 1.6050 - val_accuracy: 0.4250\n",
            "Epoch 3/10\n",
            "1250/1250 [==============================] - 85s 68ms/step - loss: 1.5882 - accuracy: 0.4388 - val_loss: 1.5618 - val_accuracy: 0.4421\n",
            "Epoch 4/10\n",
            "1250/1250 [==============================] - 85s 68ms/step - loss: 1.5161 - accuracy: 0.4664 - val_loss: 1.5130 - val_accuracy: 0.4621\n",
            "Epoch 5/10\n",
            "1250/1250 [==============================] - 89s 71ms/step - loss: 1.4781 - accuracy: 0.4776 - val_loss: 1.4987 - val_accuracy: 0.4699\n",
            "Epoch 6/10\n",
            "1250/1250 [==============================] - 86s 69ms/step - loss: 1.4296 - accuracy: 0.5021 - val_loss: 1.4960 - val_accuracy: 0.4693\n",
            "Epoch 7/10\n",
            "1250/1250 [==============================] - 87s 69ms/step - loss: 1.3872 - accuracy: 0.5156 - val_loss: 1.4598 - val_accuracy: 0.4730\n",
            "Epoch 8/10\n",
            "1250/1250 [==============================] - 86s 69ms/step - loss: 1.3474 - accuracy: 0.5254 - val_loss: 1.4560 - val_accuracy: 0.4780\n",
            "Epoch 9/10\n",
            "1250/1250 [==============================] - 91s 73ms/step - loss: 1.3173 - accuracy: 0.5387 - val_loss: 1.4016 - val_accuracy: 0.5070\n",
            "Epoch 10/10\n",
            "1250/1250 [==============================] - 87s 70ms/step - loss: 1.2801 - accuracy: 0.5541 - val_loss: 1.4202 - val_accuracy: 0.4942\n"
          ],
          "name": "stdout"
        },
        {
          "output_type": "execute_result",
          "data": {
            "text/plain": [
              "<tensorflow.python.keras.callbacks.History at 0x7fb9d2c31240>"
            ]
          },
          "metadata": {
            "tags": []
          },
          "execution_count": 15
        }
      ]
    },
    {
      "cell_type": "code",
      "metadata": {
        "colab": {
          "base_uri": "https://localhost:8080/"
        },
        "id": "2KYUFCm_6R0T",
        "outputId": "813e461c-0993-4fbd-a367-0e9c491a8471"
      },
      "source": [
        "# Se evalua el modelo con el conjunto de validación, muestra un probre desempeño\r\n",
        "\r\n",
        "modelo.evaluate(val_X, val_Y)"
      ],
      "execution_count": 16,
      "outputs": [
        {
          "output_type": "stream",
          "text": [
            "313/313 [==============================] - 8s 25ms/step - loss: 1.4202 - accuracy: 0.4942\n"
          ],
          "name": "stdout"
        },
        {
          "output_type": "execute_result",
          "data": {
            "text/plain": [
              "[1.420228362083435, 0.4941999912261963]"
            ]
          },
          "metadata": {
            "tags": []
          },
          "execution_count": 16
        }
      ]
    },
    {
      "cell_type": "code",
      "metadata": {
        "id": "M7ZhLv4b_2Y0",
        "colab": {
          "base_uri": "https://localhost:8080/"
        },
        "outputId": "6e6186c5-7240-41a7-f051-ab15d64bfd46"
      },
      "source": [
        "#Se obtinene el reporte de clasificación para analizar el desempeño para cada etiqueta  del modelo\r\n",
        "\r\n",
        "from sklearn.metrics import confusion_matrix, classification_report\r\n",
        "import numpy as np\r\n",
        "pred_Y_ann = modelo.predict(val_X)\r\n",
        "pred_Y_labels = [np.argmax(element) for element in pred_Y_ann]\r\n",
        "\r\n",
        "print(\"Classification Report: \\n\", classification_report(val_Y, pred_Y_labels))"
      ],
      "execution_count": 17,
      "outputs": [
        {
          "output_type": "stream",
          "text": [
            "Classification Report: \n",
            "               precision    recall  f1-score   support\n",
            "\n",
            "           0       0.40      0.75      0.53       973\n",
            "           1       0.66      0.56      0.60       979\n",
            "           2       0.45      0.31      0.37      1030\n",
            "           3       0.42      0.26      0.32      1023\n",
            "           4       0.47      0.42      0.44       933\n",
            "           5       0.39      0.45      0.42      1015\n",
            "           6       0.46      0.64      0.54       996\n",
            "           7       0.56      0.57      0.57       994\n",
            "           8       0.81      0.37      0.50      1017\n",
            "           9       0.56      0.64      0.60      1040\n",
            "\n",
            "    accuracy                           0.49     10000\n",
            "   macro avg       0.52      0.50      0.49     10000\n",
            "weighted avg       0.52      0.49      0.49     10000\n",
            "\n"
          ],
          "name": "stdout"
        }
      ]
    },
    {
      "cell_type": "markdown",
      "metadata": {
        "id": "G1d_kh5PGyZg"
      },
      "source": [
        "# Un modelo de redes neuronales convolucionales"
      ]
    },
    {
      "cell_type": "code",
      "metadata": {
        "id": "FPc8cbEig4ye",
        "colab": {
          "base_uri": "https://localhost:8080/"
        },
        "outputId": "3b3891d3-a423-46a4-8f0e-3c5c13f3236a"
      },
      "source": [
        "# Se define un modelo de tres capas para la extracción de características y una red densa para la clasificación\r\n",
        "\r\n",
        "cnn = models.Sequential([\r\n",
        "    \r\n",
        "        # cnn se utilizan tres capas \r\n",
        "        layers.Conv2D(filters=32, kernel_size=(3,3), activation=\"relu\", input_shape=(32,32,3)), \r\n",
        "        layers.MaxPooling2D((2,2)), \r\n",
        "        \r\n",
        "        layers.Conv2D(filters=64, kernel_size=(3,3), activation=\"relu\"),\r\n",
        "        layers.MaxPooling2D((2,2)), \r\n",
        "\r\n",
        "        layers.Conv2D(filters=128, kernel_size=(3,3), activation=\"relu\"),\r\n",
        "        layers.MaxPooling2D((2,2)), \r\n",
        "    \r\n",
        "        ## dense\r\n",
        "         layers.Flatten(),\r\n",
        "         layers.Dense(64, activation=\"relu\"),\r\n",
        "         layers.Dense(10, activation=\"softmax\"),                  \r\n",
        "      ])\r\n",
        "\r\n",
        "cnn.summary()"
      ],
      "execution_count": 18,
      "outputs": [
        {
          "output_type": "stream",
          "text": [
            "Model: \"sequential_1\"\n",
            "_________________________________________________________________\n",
            "Layer (type)                 Output Shape              Param #   \n",
            "=================================================================\n",
            "conv2d (Conv2D)              (None, 30, 30, 32)        896       \n",
            "_________________________________________________________________\n",
            "max_pooling2d (MaxPooling2D) (None, 15, 15, 32)        0         \n",
            "_________________________________________________________________\n",
            "conv2d_1 (Conv2D)            (None, 13, 13, 64)        18496     \n",
            "_________________________________________________________________\n",
            "max_pooling2d_1 (MaxPooling2 (None, 6, 6, 64)          0         \n",
            "_________________________________________________________________\n",
            "conv2d_2 (Conv2D)            (None, 4, 4, 128)         73856     \n",
            "_________________________________________________________________\n",
            "max_pooling2d_2 (MaxPooling2 (None, 2, 2, 128)         0         \n",
            "_________________________________________________________________\n",
            "flatten_1 (Flatten)          (None, 512)               0         \n",
            "_________________________________________________________________\n",
            "dense_3 (Dense)              (None, 64)                32832     \n",
            "_________________________________________________________________\n",
            "dense_4 (Dense)              (None, 10)                650       \n",
            "=================================================================\n",
            "Total params: 126,730\n",
            "Trainable params: 126,730\n",
            "Non-trainable params: 0\n",
            "_________________________________________________________________\n"
          ],
          "name": "stdout"
        }
      ]
    },
    {
      "cell_type": "code",
      "metadata": {
        "id": "jrT7lVjcg8XK"
      },
      "source": [
        "cnn.compile(optimizer=\"adam\", \r\n",
        "               loss=\"sparse_categorical_crossentropy\", \r\n",
        "               metrics=[\"accuracy\"])"
      ],
      "execution_count": 19,
      "outputs": []
    },
    {
      "cell_type": "code",
      "metadata": {
        "colab": {
          "base_uri": "https://localhost:8080/"
        },
        "id": "BjlPca3sg_Cm",
        "outputId": "3a06ec84-0a4b-453e-e51a-0a5a5b5ee2c2"
      },
      "source": [
        "# Se entrena el modelo con 10 Epochs\r\n",
        "\r\n",
        "history = cnn.fit(train_X, train_Y, epochs=10, validation_data = (val_X, val_Y))"
      ],
      "execution_count": 20,
      "outputs": [
        {
          "output_type": "stream",
          "text": [
            "Epoch 1/10\n",
            "1250/1250 [==============================] - 60s 48ms/step - loss: 1.8614 - accuracy: 0.3077 - val_loss: 1.4150 - val_accuracy: 0.4939\n",
            "Epoch 2/10\n",
            "1250/1250 [==============================] - 58s 46ms/step - loss: 1.2970 - accuracy: 0.5341 - val_loss: 1.1456 - val_accuracy: 0.5896\n",
            "Epoch 3/10\n",
            "1250/1250 [==============================] - 56s 45ms/step - loss: 1.1077 - accuracy: 0.6124 - val_loss: 1.0861 - val_accuracy: 0.6205\n",
            "Epoch 4/10\n",
            "1250/1250 [==============================] - 56s 45ms/step - loss: 0.9755 - accuracy: 0.6599 - val_loss: 1.0039 - val_accuracy: 0.6515\n",
            "Epoch 5/10\n",
            "1250/1250 [==============================] - 57s 45ms/step - loss: 0.8942 - accuracy: 0.6882 - val_loss: 0.9667 - val_accuracy: 0.6664\n",
            "Epoch 6/10\n",
            "1250/1250 [==============================] - 57s 45ms/step - loss: 0.8218 - accuracy: 0.7115 - val_loss: 0.9329 - val_accuracy: 0.6771\n",
            "Epoch 7/10\n",
            "1250/1250 [==============================] - 60s 48ms/step - loss: 0.7451 - accuracy: 0.7386 - val_loss: 0.9148 - val_accuracy: 0.6910\n",
            "Epoch 8/10\n",
            "1250/1250 [==============================] - 57s 45ms/step - loss: 0.6925 - accuracy: 0.7584 - val_loss: 0.9704 - val_accuracy: 0.6692\n",
            "Epoch 9/10\n",
            "1250/1250 [==============================] - 57s 45ms/step - loss: 0.6544 - accuracy: 0.7722 - val_loss: 0.9084 - val_accuracy: 0.6980\n",
            "Epoch 10/10\n",
            "1250/1250 [==============================] - 57s 46ms/step - loss: 0.5955 - accuracy: 0.7917 - val_loss: 0.9304 - val_accuracy: 0.6922\n"
          ],
          "name": "stdout"
        }
      ]
    },
    {
      "cell_type": "markdown",
      "metadata": {
        "id": "o9Qim9h9eYNK"
      },
      "source": [
        "# Evaluación del modelo CNN - Validación"
      ]
    },
    {
      "cell_type": "code",
      "metadata": {
        "colab": {
          "base_uri": "https://localhost:8080/"
        },
        "id": "W20T861uhDlG",
        "outputId": "63235d5c-a353-465d-978b-f14acfd08706"
      },
      "source": [
        "# La presición sobre el conjunto de prueba mejoró significativamente al aplicar CNN\r\n",
        "\r\n",
        "cnn.evaluate(val_X, val_Y)"
      ],
      "execution_count": 21,
      "outputs": [
        {
          "output_type": "stream",
          "text": [
            "313/313 [==============================] - 4s 14ms/step - loss: 0.9304 - accuracy: 0.6922\n"
          ],
          "name": "stdout"
        },
        {
          "output_type": "execute_result",
          "data": {
            "text/plain": [
              "[0.9304173588752747, 0.6922000050544739]"
            ]
          },
          "metadata": {
            "tags": []
          },
          "execution_count": 21
        }
      ]
    },
    {
      "cell_type": "code",
      "metadata": {
        "colab": {
          "base_uri": "https://localhost:8080/",
          "height": 300
        },
        "id": "WpaJwWYFfxGZ",
        "outputId": "a48e1822-075d-4441-cfc3-ca86aef64b57"
      },
      "source": [
        "plt.plot(history.history[\"accuracy\"], label=\"accuracy\")\r\n",
        "plt.plot(history.history[\"val_accuracy\"], label=\"val_accuracy\")\r\n",
        "plt.xlabel(\"Epoch\")\r\n",
        "plt.ylabel(\"Accuracy\")\r\n",
        "plt.ylim([0.5, 1])\r\n",
        "plt.legend(loc=\"lower right\")\r\n",
        "\r\n",
        "test_loss, test_acc = cnn.evaluate(val_X, val_Y, verbose=2)"
      ],
      "execution_count": 23,
      "outputs": [
        {
          "output_type": "stream",
          "text": [
            "313/313 - 4s - loss: 0.9304 - accuracy: 0.6922\n"
          ],
          "name": "stdout"
        },
        {
          "output_type": "display_data",
          "data": {
            "image/png": "[encoded data removed]",
            "text/plain": [
              "<Figure size 432x288 with 1 Axes>"
            ]
          },
          "metadata": {
            "tags": [],
            "needs_background": "light"
          }
        }
      ]
    },
    {
      "cell_type": "code",
      "metadata": {
        "id": "9tsvkzIwjXaN",
        "colab": {
          "base_uri": "https://localhost:8080/"
        },
        "outputId": "abcce6e7-096d-4101-d759-bd04a74ea04b"
      },
      "source": [
        "print(test_acc)"
      ],
      "execution_count": 24,
      "outputs": [
        {
          "output_type": "stream",
          "text": [
            "0.6922000050544739\n"
          ],
          "name": "stdout"
        }
      ]
    },
    {
      "cell_type": "code",
      "metadata": {
        "id": "I-TxM5MxhGId",
        "colab": {
          "base_uri": "https://localhost:8080/"
        },
        "outputId": "19302709-f432-4d48-8ddb-9b2e024d6aea"
      },
      "source": [
        "# Adjustamos la dimensión del array del conjunto de validación \r\n",
        "\r\n",
        "val_Y = val_Y.reshape(-1,)\r\n",
        "val_Y[:5]"
      ],
      "execution_count": 25,
      "outputs": [
        {
          "output_type": "execute_result",
          "data": {
            "text/plain": [
              "array([7, 8, 0, 6, 1], dtype=uint8)"
            ]
          },
          "metadata": {
            "tags": []
          },
          "execution_count": 25
        }
      ]
    },
    {
      "cell_type": "code",
      "metadata": {
        "id": "UmmkAoRxhIFb"
      },
      "source": [
        "# Definimos el array con las predicciones sobre el conjunto de prueba\r\n",
        "\r\n",
        "pred_Y_cnn = cnn.predict(val_X)"
      ],
      "execution_count": 26,
      "outputs": []
    },
    {
      "cell_type": "code",
      "metadata": {
        "id": "3_sxSRzahKUk",
        "colab": {
          "base_uri": "https://localhost:8080/"
        },
        "outputId": "01a598ed-7353-4a7c-cb14-d3fa65656d0e"
      },
      "source": [
        "# Definimos el elemento de predicción para cada imagen del conjunto de prueba y validamos la preducción del modelo / vemos que clasifica \r\n",
        "#correctamente 3 de las 5 primeras imágenes\r\n",
        "\r\n",
        "label_Y = [np.argmax(element) for element in pred_Y_cnn]\r\n",
        "label_Y[:5]"
      ],
      "execution_count": 27,
      "outputs": [
        {
          "output_type": "execute_result",
          "data": {
            "text/plain": [
              "[5, 8, 0, 3, 1]"
            ]
          },
          "metadata": {
            "tags": []
          },
          "execution_count": 27
        }
      ]
    },
    {
      "cell_type": "code",
      "metadata": {
        "id": "v_0r7PFHhUUO",
        "colab": {
          "base_uri": "https://localhost:8080/",
          "height": 173
        },
        "outputId": "75f9fa09-2e49-4b3d-ebbf-be5e4d445ac6"
      },
      "source": [
        "# Un ejemplo de predicción con la imagén \r\n",
        "\r\n",
        "plot_ejemplo(val_X, val_Y,2)"
      ],
      "execution_count": 33,
      "outputs": [
        {
          "output_type": "display_data",
          "data": {
            "image/png": "[encoded data removed]",
            "text/plain": [
              "<Figure size 720x144 with 1 Axes>"
            ]
          },
          "metadata": {
            "tags": [],
            "needs_background": "light"
          }
        }
      ]
    },
    {
      "cell_type": "code",
      "metadata": {
        "id": "gMe81U7HhWfb",
        "colab": {
          "base_uri": "https://localhost:8080/",
          "height": 35
        },
        "outputId": "2dd197c6-12ba-4f33-dd29-a8a77fab337d"
      },
      "source": [
        "# Etiqueta que predice el modelo\r\n",
        "\r\n",
        "label_names[label_Y[2]]"
      ],
      "execution_count": 34,
      "outputs": [
        {
          "output_type": "execute_result",
          "data": {
            "application/vnd.google.colaboratory.intrinsic+json": {
              "type": "string"
            },
            "text/plain": [
              "'airplane'"
            ]
          },
          "metadata": {
            "tags": []
          },
          "execution_count": 34
        }
      ]
    },
    {
      "cell_type": "code",
      "metadata": {
        "id": "PZsIKzDShYv9",
        "colab": {
          "base_uri": "https://localhost:8080/"
        },
        "outputId": "171b3ff1-108b-474b-e924-c405553ddc87"
      },
      "source": [
        "print(\"Classification Report: \\n\", classification_report(val_Y, label_Y))"
      ],
      "execution_count": 35,
      "outputs": [
        {
          "output_type": "stream",
          "text": [
            "Classification Report: \n",
            "               precision    recall  f1-score   support\n",
            "\n",
            "           0       0.73      0.73      0.73       973\n",
            "           1       0.90      0.72      0.80       979\n",
            "           2       0.55      0.64      0.59      1030\n",
            "           3       0.46      0.61      0.52      1023\n",
            "           4       0.63      0.66      0.65       933\n",
            "           5       0.59      0.58      0.59      1015\n",
            "           6       0.86      0.69      0.77       996\n",
            "           7       0.84      0.69      0.76       994\n",
            "           8       0.80      0.81      0.81      1017\n",
            "           9       0.76      0.80      0.78      1040\n",
            "\n",
            "    accuracy                           0.69     10000\n",
            "   macro avg       0.71      0.69      0.70     10000\n",
            "weighted avg       0.71      0.69      0.70     10000\n",
            "\n"
          ],
          "name": "stdout"
        }
      ]
    },
    {
      "cell_type": "code",
      "metadata": {
        "id": "RTDCgdr7Zsp6"
      },
      "source": [
        "# Definimos función para obtener la matriz de confusión\r\n",
        "\r\n",
        "from sklearn.metrics import confusion_matrix\r\n",
        "from sklearn.metrics import classification_report\r\n",
        "import itertools\r\n",
        "\r\n",
        "def plot_confusion_matrix(cm, classes, normalize, title):\r\n",
        "    \"\"\"\r\n",
        "    This function prints and plots the confusion matrix.\r\n",
        "    Normalization can be applied by setting `normalize=True`.\r\n",
        "    \"\"\"\r\n",
        "    if normalize:\r\n",
        "        cm = cm.astype('float') / cm.sum(axis=1)[:, np.newaxis]\r\n",
        "    plt.imshow(cm, interpolation='nearest', cmap=plt.cm.binary)\r\n",
        "    plt.colorbar()\r\n",
        "    tick_marks = np.arange(len(classes))\r\n",
        "    plt.xticks(tick_marks, classes, rotation=45)\r\n",
        "    plt.yticks(tick_marks, classes)\r\n",
        "    title_font = {'family': 'serif', 'color': 'black', 'weight': 'bold', 'size': 15}\r\n",
        "    label_font = {'family': 'serif', 'color': 'black', 'weight': 'normal', 'size': 10}\r\n",
        "    plt.title(title, fontdict=title_font)\r\n",
        "    plt.ylabel('True label',fontdict=label_font)\r\n",
        "    plt.xlabel('Predicted label',fontdict=label_font)\r\n",
        "    fmt = '.2f' if normalize else 'd'\r\n",
        "    thresh = cm.max() / 2.\r\n",
        "    for i, j in itertools.product(range(cm.shape[0]), range(cm.shape[1])):\r\n",
        "        plt.text(j, i, format(cm[i, j], fmt),\r\n",
        "                 horizontalalignment=\"center\",\r\n",
        "                 color=\"white\" if cm[i, j] > thresh else \"black\")\r\n",
        "    plt.tight_layout()"
      ],
      "execution_count": 36,
      "outputs": []
    },
    {
      "cell_type": "code",
      "metadata": {
        "id": "Psf4jxQ7Z7QQ"
      },
      "source": [
        "result = cnn.predict(val_X)\r\n",
        "\r\n",
        "test_Y  = val_Y\r\n",
        "pred_Y = np.argmax( result, axis = 1)"
      ],
      "execution_count": 37,
      "outputs": []
    },
    {
      "cell_type": "code",
      "metadata": {
        "id": "zk91WmS2lfyc",
        "colab": {
          "base_uri": "https://localhost:8080/",
          "height": 1000
        },
        "outputId": "f387a25e-e9b1-4a17-e1bc-e17e84faf622"
      },
      "source": [
        "# Compute confusion matrix\r\n",
        "cnn_matrix = confusion_matrix(test_Y, pred_Y)\r\n",
        "np.set_printoptions(precision=2)\r\n",
        "\r\n",
        "# Plot normalized confusion matrix\r\n",
        "plt.figure(figsize=(8,8))\r\n",
        "plot_confusion_matrix(cnn_matrix, classes=label_names, normalize=False, \r\n",
        "                      title='Confusion Matrix of CNN')\r\n",
        "\r\n",
        "# Plot normalized confusion matrix\r\n",
        "plt.figure(figsize=(8,8))\r\n",
        "plot_confusion_matrix(cnn_matrix, classes=label_names, normalize=True, \r\n",
        "                      title='Confusion Matrix of CNN')"
      ],
      "execution_count": 38,
      "outputs": [
        {
          "output_type": "display_data",
          "data": {
            "image/png": "[encoded data removed]",
            "text/plain": [
              "<Figure size 576x576 with 2 Axes>"
            ]
          },
          "metadata": {
            "tags": [],
            "needs_background": "light"
          }
        },
        {
          "output_type": "display_data",
          "data": {
            "image/png": "[encoded data removed]",
            "text/plain": [
              "<Figure size 576x576 with 2 Axes>"
            ]
          },
          "metadata": {
            "tags": [],
            "needs_background": "light"
          }
        }
      ]
    }
  ]
}